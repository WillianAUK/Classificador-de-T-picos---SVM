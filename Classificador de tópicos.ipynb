{
 "cells": [
  {
   "cell_type": "markdown",
   "metadata": {},
   "source": [
    "## Classificador de tópicos - Newsgroup\n",
    "\n",
    "#### Aluno: Willian A. U. Klein\n",
    "\n",
    "#### Será construído nesse notebook alguns dos conceitos de aprendizagem supervisionada e de classificação. Será usado de classificação multiclasse e suporte a classificadores de maquinas de vetores. O objetivo do algoritmo é procurar um limite de decisão para separar dados de classes diferentes. O algoritmo será implementado com scikit-learn para resolver o problema de de classificação de tópicos de grupos de noticias.\n",
    "\n",
    "#### Serão usadas tecnicas diferentes para implementação de aprendizado utilizando de SVM para demonstrar algumas difereças de configurações e de desempenho de cada uma das técnicas. Será usado a base de dados do sklearn, fetch_20newsgroups.\n",
    "\n",
    "#### Os links para o projejeto: \n",
    "#### Git: https://github.com/WillianAUK/Classificador-de-Topicos-SVM.git\n",
    "#### G. Drive: https://drive.google.com/drive/folders/1KzCnRwybajymIxspWiWLwc_PGQGr6tmZ?usp=sharing\n",
    "\n"
   ]
  },
  {
   "cell_type": "markdown",
   "metadata": {},
   "source": [
    "#### Primeiramente importando as bibliotecas que serão utilizadas ao decorrer do projeto:"
   ]
  },
  {
   "cell_type": "code",
   "execution_count": 1,
   "metadata": {},
   "outputs": [],
   "source": [
    "from sklearn.datasets import fetch_20newsgroups\n",
    "from nltk.corpus import names\n",
    "from nltk.stem import WordNetLemmatizer\n",
    "import glob\n",
    "import os\n",
    "import numpy as np\n",
    "from collections import Counter\n",
    "from sklearn.feature_extraction.text import TfidfVectorizer\n",
    "from sklearn.svm import SVC\n",
    "from sklearn.metrics import classification_report\n",
    "import numpy as np\n",
    "import matplotlib.pyplot as plt\n",
    "from sklearn.model_selection import GridSearchCV\n",
    "import timeit\n",
    "from sklearn.svm import LinearSVC\n",
    "from sklearn.pipeline import Pipeline"
   ]
  },
  {
   "cell_type": "markdown",
   "metadata": {},
   "source": [
    "#### Alguns passos e funções pré-escritas que auxiliam na limpeza dos dados: "
   ]
  },
  {
   "cell_type": "code",
   "execution_count": 2,
   "metadata": {},
   "outputs": [],
   "source": [
    "all_names = set(names.words())\n",
    "lemmatizer = WordNetLemmatizer()"
   ]
  },
  {
   "cell_type": "code",
   "execution_count": 3,
   "metadata": {},
   "outputs": [],
   "source": [
    "def letters_only(astr):\n",
    "    for c in astr:\n",
    "        if not c.isalpha():\n",
    "            return False\n",
    "    return True\n",
    "\n",
    "def clean_text(docs):\n",
    "    cleaned_docs = []\n",
    "    for doc in docs:\n",
    "        cleaned_docs.append(' '.join([lemmatizer.lemmatize(word.lower())\n",
    "                                        for word in doc.split()\n",
    "                                        if letters_only(word)\n",
    "                                        and word not in all_names]))\n",
    "    return cleaned_docs"
   ]
  },
  {
   "cell_type": "markdown",
   "metadata": {},
   "source": [
    "### Primeiro, será carregado o subconjunto de treinamento e teste dos gráficos de computador e dados de newsgroup do sklearn:"
   ]
  },
  {
   "cell_type": "code",
   "execution_count": 4,
   "metadata": {},
   "outputs": [],
   "source": [
    "# Carregando o conjunto de dados 20newsgroups\n",
    "\n",
    "categories = None\n",
    "data_train = fetch_20newsgroups(subset='train', categories=categories, random_state=42)\n",
    "data_test = fetch_20newsgroups(subset='test', categories=categories, random_state=42)"
   ]
  },
  {
   "cell_type": "code",
   "execution_count": 5,
   "metadata": {},
   "outputs": [],
   "source": [
    "# limpamos o conjunto de dados com os 20 grupos inteiros do conjunto de dados\n",
    "\n",
    "cleaned_train = clean_text(data_train.data)\n",
    "label_train = data_train.target\n",
    "cleaned_test = clean_text(data_test.data)\n",
    "label_test = data_test.target"
   ]
  },
  {
   "cell_type": "code",
   "execution_count": 6,
   "metadata": {},
   "outputs": [],
   "source": [
    "# Em seguida, extraímos os recursos tf-idf dos dados de texto limpos\n",
    "\n",
    "tfidf_vectorizer = TfidfVectorizer(stop_words='english', max_features=None)\n",
    "term_docs_train = tfidf_vectorizer.fit_transform(cleaned_train)\n",
    "term_docs_test = tfidf_vectorizer.transform(cleaned_test)"
   ]
  },
  {
   "cell_type": "markdown",
   "metadata": {},
   "source": [
    "### Classificando tópicos de grupos de noticias com SVMs"
   ]
  },
  {
   "cell_type": "code",
   "execution_count": 7,
   "metadata": {},
   "outputs": [],
   "source": [
    "# Usando o kernel linear pois sabemos que é bom em classificar dados de texto, \n",
    "# assim usando \"linear\" como o valor do hiperparâmetro do kernel e \n",
    "# desse modo ficando somente \"C\" para se ajustar:\n",
    "\n",
    "svc_libsvm = SVC(kernel='linear')"
   ]
  },
  {
   "cell_type": "code",
   "execution_count": 8,
   "metadata": {},
   "outputs": [],
   "source": [
    "# Agora vamos especificar o hiperparâmetro (s) para sintonizar \n",
    "# e os valores a se explorar para cada hiperparâmetro individual:\n",
    "\n",
    "parameters = {'C': (0.1, 1, 10, 100)}\n",
    "grid_search = GridSearchCV(svc_libsvm, parameters, n_jobs=-1, cv=5)"
   ]
  },
  {
   "cell_type": "code",
   "execution_count": 9,
   "metadata": {},
   "outputs": [
    {
     "name": "stdout",
     "output_type": "stream",
     "text": [
      "Tempo de execução: 737.16 segundos \n"
     ]
    }
   ],
   "source": [
    "# Execuatndo o ajuste de hiperparâmetros aplicando o \n",
    "# método de ajuste e registrando o tempo de execução:\n",
    "\n",
    "start_time = timeit.default_timer()\n",
    "grid_search.fit(term_docs_train, label_train)\n",
    "print(\"Tempo de execução: %0.2f segundos \" % (timeit.default_timer() - start_time))"
   ]
  },
  {
   "cell_type": "code",
   "execution_count": 10,
   "metadata": {},
   "outputs": [
    {
     "data": {
      "text/plain": [
       "{'C': 10}"
      ]
     },
     "execution_count": 10,
     "metadata": {},
     "output_type": "execute_result"
    }
   ],
   "source": [
    "# Obtendo o conjunto ideal de parâmetros (o C ideal):\n",
    "\n",
    "grid_search.best_params_"
   ]
  },
  {
   "cell_type": "code",
   "execution_count": 11,
   "metadata": {},
   "outputs": [
    {
     "data": {
      "text/plain": [
       "0.8826239044045738"
      ]
     },
     "execution_count": 11,
     "metadata": {},
     "output_type": "execute_result"
    }
   ],
   "source": [
    "# Obtendo o melhor desempenho médio de cinco vezes sob o conjunto ideal de parâmetros:\n",
    "\n",
    "grid_search.best_score_"
   ]
  },
  {
   "cell_type": "code",
   "execution_count": 12,
   "metadata": {},
   "outputs": [
    {
     "name": "stdout",
     "output_type": "stream",
     "text": [
      "A precisão da classificação de 20 classes é de 77.63%\n"
     ]
    }
   ],
   "source": [
    "# Recuperando o modelo SVM com o hiperparâmetro ideal e o aplicando \n",
    "# ao conjunto de teste:\n",
    "\n",
    "svc_libsvm_best = grid_search.best_estimator_\n",
    "accuracy = svc_libsvm_best.score(term_docs_test, label_test)\n",
    "print('A precisão da classificação de 20 classes é de {0:.2f}%'.format(accuracy*100))"
   ]
  },
  {
   "cell_type": "markdown",
   "metadata": {},
   "source": [
    "### Repetindo o processo anterior mas agora usando LinearSVC\n",
    "#### LinearSVC é semelhante ao SVC com kernels lineares, mas é implementado com base na Biblioteca liblinear, que é melhor otimizada do que libsvm com kernel linear."
   ]
  },
  {
   "cell_type": "code",
   "execution_count": 13,
   "metadata": {},
   "outputs": [],
   "source": [
    "# Especificando valores a se explorar  basenado em LinearSVC para cada hiperparâmetro individual:\n",
    "\n",
    "svc_linear = LinearSVC()\n",
    "grid_search = GridSearchCV(svc_linear, parameters, n_jobs=-1, cv=5)"
   ]
  },
  {
   "cell_type": "code",
   "execution_count": 14,
   "metadata": {},
   "outputs": [
    {
     "name": "stdout",
     "output_type": "stream",
     "text": [
      "Tempo de execução: 50.12 segundos\n"
     ]
    }
   ],
   "source": [
    "# Execuatndo o ajuste de hiperparâmetros aplicando o \n",
    "# método de ajuste e registrando o tempo de execução:\n",
    "\n",
    "start_time = timeit.default_timer()\n",
    "grid_search.fit(term_docs_train, label_train)\n",
    "print(\"Tempo de execução: %0.2f segundos\" % (timeit.default_timer() - start_time))"
   ]
  },
  {
   "cell_type": "code",
   "execution_count": 15,
   "metadata": {},
   "outputs": [
    {
     "data": {
      "text/plain": [
       "{'C': 1}"
      ]
     },
     "execution_count": 15,
     "metadata": {},
     "output_type": "execute_result"
    }
   ],
   "source": [
    "# Obtendo o conjunto ideal de parâmetros (o C ideal):\n",
    "\n",
    "grid_search.best_params_"
   ]
  },
  {
   "cell_type": "code",
   "execution_count": 16,
   "metadata": {},
   "outputs": [
    {
     "data": {
      "text/plain": [
       "0.8913742115991191"
      ]
     },
     "execution_count": 16,
     "metadata": {},
     "output_type": "execute_result"
    }
   ],
   "source": [
    "# Obtendo o melhor desempenho médio de cinco vezes sob o conjunto ideal de parâmetros:\n",
    "\n",
    "grid_search.best_score_"
   ]
  },
  {
   "cell_type": "code",
   "execution_count": 17,
   "metadata": {},
   "outputs": [
    {
     "name": "stdout",
     "output_type": "stream",
     "text": [
      "A precisão da classificação com 20 classes é de 79.78%\n"
     ]
    }
   ],
   "source": [
    "# Recuperando o modelo SVM com o hiperparâmetro ideal e o aplicando \n",
    "# ao conjunto de teste:\n",
    "\n",
    "svc_libsvm_best = grid_search.best_estimator_\n",
    "accuracy = svc_libsvm_best.score(term_docs_test, label_test)\n",
    "print('A precisão da classificação com 20 classes é de {0:.2f}%'.format(accuracy*100))"
   ]
  },
  {
   "cell_type": "markdown",
   "metadata": {},
   "source": [
    "### Agora repetiremos o processo, mas ajustando o extrator de recursos TfidfVectorizer para melhorar o desempenho. \n",
    "\n",
    "#### Os parametros na pipeline são:\n",
    "#### max_df: a frequência máxima de documento de um termo a ser permitida, a fim deevite termos comuns que geralmente ocorrem em documentos\n",
    "#### max_features: o número dos principais recursos a serem considerados\n",
    "#### sublinear_tf: quer escalar a frequência do termo com a função logaritmo ou não\n",
    "#### smooth_idf: Adicionando um 1 inicial à frequência do documento ou não, semelhante afator de suavização para o termo frequência"
   ]
  },
  {
   "cell_type": "code",
   "execution_count": 18,
   "metadata": {},
   "outputs": [],
   "source": [
    "# O extrator de recursos tfidf e o classificador SVM linear são montados\n",
    "# primeiro no pipeline:\n",
    "\n",
    "pipeline = Pipeline([('tfidf', TfidfVectorizer(stop_words='english')),('svc', LinearSVC()),])"
   ]
  },
  {
   "cell_type": "code",
   "execution_count": 19,
   "metadata": {},
   "outputs": [],
   "source": [
    "# Os hiperparâmetros a serem ajustados são definidos da seguinte maneira, \n",
    "# com um nome de etapa de pipeline unido a um nome de parâmetro por um __ \n",
    "# como a chave e uma tupla de opções correspondentes como o valor:\n",
    "\n",
    "parameters_pipeline = {'tfidf__max_df': (0.25, 0.5, 1.0),\n",
    "                       'tfidf__max_features': (10000, None),\n",
    "                       'tfidf__sublinear_tf': (True, False),\n",
    "                       'tfidf__smooth_idf': (True, False),\n",
    "                       'svc__C': (0.3, 1, 3), }"
   ]
  },
  {
   "cell_type": "code",
   "execution_count": 20,
   "metadata": {},
   "outputs": [
    {
     "name": "stdout",
     "output_type": "stream",
     "text": [
      "-Tempo de execução: 537.98 segundos\n"
     ]
    }
   ],
   "source": [
    "# O modelo de pesquisa de grade vai buscar o conjunto ideal de parâmetros \n",
    "# em todo o pipeline e o tempo que levará para isso será contabilizado:\n",
    "\n",
    "grid_search = GridSearchCV(pipeline, parameters_pipeline, n_jobs=-1, cv=5)\n",
    "start_time = timeit.default_timer()\n",
    "grid_search.fit(cleaned_train, label_train)\n",
    "print(\"-Tempo de execução: %0.2f segundos\" % (timeit.default_timer() - start_time))"
   ]
  },
  {
   "cell_type": "code",
   "execution_count": 21,
   "metadata": {},
   "outputs": [
    {
     "data": {
      "text/plain": [
       "{'svc__C': 1,\n",
       " 'tfidf__max_df': 0.5,\n",
       " 'tfidf__max_features': None,\n",
       " 'tfidf__smooth_idf': False,\n",
       " 'tfidf__sublinear_tf': True}"
      ]
     },
     "execution_count": 21,
     "metadata": {},
     "output_type": "execute_result"
    }
   ],
   "source": [
    "# Obtendo o conjunto ideal de parâmetros (o C ideal):\n",
    "\n",
    "grid_search.best_params_"
   ]
  },
  {
   "cell_type": "code",
   "execution_count": 22,
   "metadata": {},
   "outputs": [
    {
     "data": {
      "text/plain": [
       "0.8986215413996662"
      ]
     },
     "execution_count": 22,
     "metadata": {},
     "output_type": "execute_result"
    }
   ],
   "source": [
    "# Obtendo o melhor desempenho médio de cinco vezes sob o conjunto ideal de parâmetros:\n",
    "\n",
    "grid_search.best_score_"
   ]
  },
  {
   "cell_type": "code",
   "execution_count": 23,
   "metadata": {},
   "outputs": [
    {
     "name": "stdout",
     "output_type": "stream",
     "text": [
      "A precisão da classificação de 20 classes é de 80.56%\n"
     ]
    }
   ],
   "source": [
    "# Recuperando o modelo SVM com o hiperparâmetro ideal e o aplicando \n",
    "# ao conjunto de teste:\n",
    "\n",
    "pipeline_best = grid_search.best_estimator_\n",
    "accuracy = pipeline_best.score(cleaned_test, label_test)\n",
    "print('A precisão da classificação de 20 classes é de {0:.2f}%'.format(accuracy*100))"
   ]
  },
  {
   "cell_type": "markdown",
   "metadata": {},
   "source": [
    "## Considerações:\n",
    "\n",
    "#### Podemos observar ao longo das abordagens diferentes resultados, nos mostrando que é possível se otimizar tanto em tempo quanto em precisão. Abaixo os resultados obtidos\n",
    "\n",
    "#### SVM                                 | Tempo de execução: 737.16 segundos    Precisão na classificação: 77.63%\n",
    "#### LinearSVM                      | Tempo de execução: 50.12 segundos      Precisão na classificação: 79.78%\n",
    "#### SVM + TfidfVectorizer    | Tempo de execução: 537.98 segundos    Precisão na classificação: 80.56%\n",
    "\n",
    "#### Podemos vizualizar graficamente os resultados abaixo:"
   ]
  },
  {
   "cell_type": "code",
   "execution_count": 61,
   "metadata": {
    "scrolled": true
   },
   "outputs": [
    {
     "data": {
      "image/png": "[encoded data removed]",
      "text/plain": [
       "<Figure size 432x288 with 1 Axes>"
      ]
     },
     "metadata": {
      "needs_background": "light"
     },
     "output_type": "display_data"
    }
   ],
   "source": [
    "# Plotando o grafico de tempo de execução:\n",
    "\n",
    "valores = [(737.16/60),(50.12/60),(537.98/60)]\n",
    "\n",
    "x1 =  np.arange(len(valores))\n",
    "plt.bar(x1, valores, width=0.5, label = 'Tempo', color = 'b')\n",
    "grupos = ['SVM', 'LinearSVM', 'SVM + TfidfVectorizer']\n",
    "plt.xticks([x for x in range(len(valores))], grupos)\n",
    "plt.title(\"Tempo de execução:\")\n",
    "plt.ylabel('Minutos')\n",
    "plt.show()"
   ]
  },
  {
   "cell_type": "code",
   "execution_count": 63,
   "metadata": {},
   "outputs": [
    {
     "data": {
      "image/png": "[encoded data removed]",
      "text/plain": [
       "<Figure size 432x288 with 1 Axes>"
      ]
     },
     "metadata": {
      "needs_background": "light"
     },
     "output_type": "display_data"
    }
   ],
   "source": [
    "# Plotando o gráfico de Precisão:\n",
    "grupos = ['SVM', 'LinearSVM', 'SVM + TfidfVectorizer']\n",
    "\n",
    "plt.plot([0, 1, 2], [77.63, 79.78, 80.56], 'g--')\n",
    "plt.plot([0, 1, 2], [77.63, 79.78, 80.56], 'bs')\n",
    "plt.xticks([x  for x in range(3)], grupos)\n",
    "plt.ylabel('Precisão em %')\n",
    "plt.title(\"Precisão\")\n",
    "plt.show()"
   ]
  },
  {
   "cell_type": "markdown",
   "metadata": {},
   "source": [
    "## Conclusão:\n",
    "#### Podemos ver com os resultados obtidos que usando SVM com kernel linear podemos obter um valor satisfatório de precisão. De acordo a demanda e a exigencia temos possibilidades de implementação que podem ser mais precisas ou mais rapidas em sua exucução.\n",
    "#### Para se aprofundar mais e buscar uma maior precisão, podemos trabalhar com o Kernel, implementar abordagens para o um C mais otimizado, mas sempre é preciso levar em consideração o preço do tempo que será cobrado para ser ou não viável. É preciso ficar atento aos efeitos de underfitting e overfiting para não afetarem o resultado ideal."
   ]
  },
  {
   "cell_type": "code",
   "execution_count": null,
   "metadata": {},
   "outputs": [],
   "source": []
  }
 ],
 "metadata": {
  "kernelspec": {
   "display_name": "Python 3",
   "language": "python",
   "name": "python3"
  },
  "language_info": {
   "codemirror_mode": {
    "name": "ipython",
    "version": 3
   },
   "file_extension": ".py",
   "mimetype": "text/x-python",
   "name": "python",
   "nbconvert_exporter": "python",
   "pygments_lexer": "ipython3",
   "version": "3.8.3"
  }
 },
 "nbformat": 4,
 "nbformat_minor": 4
}
